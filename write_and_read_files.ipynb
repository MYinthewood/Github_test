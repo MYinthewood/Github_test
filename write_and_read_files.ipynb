{
 "cells": [
  {
   "cell_type": "code",
   "execution_count": 3,
   "id": "1d5a22e7",
   "metadata": {},
   "outputs": [],
   "source": [
    "import string"
   ]
  },
  {
   "cell_type": "markdown",
   "id": "39ccb7e7",
   "metadata": {},
   "source": [
    "# write file"
   ]
  },
  {
   "cell_type": "code",
   "execution_count": 9,
   "id": "829251c0",
   "metadata": {},
   "outputs": [],
   "source": [
    "with open('letters.txt','w') as f:\n",
    "    for i in range (0,26):\n",
    "        lower = string.ascii_lowercase[i]\n",
    "        upper = string.ascii_uppercase[i]\n",
    "        line = \"{},{},{}\\n\".format(i,lower,upper)\n",
    "        f.write(line)"
   ]
  },
  {
   "cell_type": "markdown",
   "id": "979031dd",
   "metadata": {},
   "source": [
    "# Read file"
   ]
  },
  {
   "cell_type": "code",
   "execution_count": 10,
   "id": "89864d6f",
   "metadata": {},
   "outputs": [],
   "source": [
    "with open('letters.txt','r') as f:\n",
    "    lines = f.readlines() # all in a list"
   ]
  },
  {
   "cell_type": "code",
   "execution_count": 25,
   "id": "73429613",
   "metadata": {},
   "outputs": [
    {
     "name": "stdout",
     "output_type": "stream",
     "text": [
      "['0,a,A\\n', '1,b,B\\n', '2,c,C\\n', '3,d,D\\n', '4,e,E\\n', '5,f,F\\n', '6,g,G\\n', '7,h,H\\n', '8,i,I\\n', '9,j,J\\n', '10,k,K\\n', '11,l,L\\n', '12,m,M\\n', '13,n,N\\n', '14,o,O\\n', '15,p,P\\n', '16,q,Q\\n', '17,r,R\\n', '18,s,S\\n', '19,t,T\\n', '20,u,U\\n', '21,v,V\\n', '22,w,W\\n', '23,x,X\\n', '24,y,Y\\n', '25,z,Z\\n']\n"
     ]
    }
   ],
   "source": [
    "print(lines)"
   ]
  },
  {
   "cell_type": "code",
   "execution_count": 26,
   "id": "5d963e20",
   "metadata": {
    "collapsed": true
   },
   "outputs": [
    {
     "name": "stdout",
     "output_type": "stream",
     "text": [
      "0,a,A\n",
      "\n",
      "1,b,B\n",
      "\n",
      "2,c,C\n",
      "\n",
      "3,d,D\n",
      "\n",
      "4,e,E\n",
      "\n",
      "5,f,F\n",
      "\n",
      "6,g,G\n",
      "\n",
      "7,h,H\n",
      "\n",
      "8,i,I\n",
      "\n",
      "9,j,J\n",
      "\n",
      "10,k,K\n",
      "\n",
      "11,l,L\n",
      "\n",
      "12,m,M\n",
      "\n",
      "13,n,N\n",
      "\n",
      "14,o,O\n",
      "\n",
      "15,p,P\n",
      "\n",
      "16,q,Q\n",
      "\n",
      "17,r,R\n",
      "\n",
      "18,s,S\n",
      "\n",
      "19,t,T\n",
      "\n",
      "20,u,U\n",
      "\n",
      "21,v,V\n",
      "\n",
      "22,w,W\n",
      "\n",
      "23,x,X\n",
      "\n",
      "24,y,Y\n",
      "\n",
      "25,z,Z\n",
      "\n"
     ]
    }
   ],
   "source": [
    "for line in lines:\n",
    "    print(line) # '\\n' is at the end."
   ]
  },
  {
   "cell_type": "code",
   "execution_count": 24,
   "id": "b7e20131",
   "metadata": {
    "collapsed": true
   },
   "outputs": [
    {
     "name": "stdout",
     "output_type": "stream",
     "text": [
      "0,a,A\n",
      "1,b,B\n",
      "2,c,C\n",
      "3,d,D\n",
      "4,e,E\n",
      "5,f,F\n",
      "6,g,G\n",
      "7,h,H\n",
      "8,i,I\n",
      "9,j,J\n",
      "10,k,K\n",
      "11,l,L\n",
      "12,m,M\n",
      "13,n,N\n",
      "14,o,O\n",
      "15,p,P\n",
      "16,q,Q\n",
      "17,r,R\n",
      "18,s,S\n",
      "19,t,T\n",
      "20,u,U\n",
      "21,v,V\n",
      "22,w,W\n",
      "23,x,X\n",
      "24,y,Y\n",
      "25,z,Z\n"
     ]
    }
   ],
   "source": [
    "for line in lines:\n",
    "    print(line[:-1])"
   ]
  },
  {
   "cell_type": "markdown",
   "id": "11ace160",
   "metadata": {},
   "source": [
    "# Write the text into a csv file"
   ]
  },
  {
   "cell_type": "code",
   "execution_count": 13,
   "id": "a7e6d5a2",
   "metadata": {},
   "outputs": [],
   "source": [
    "with open('letters.csv','w') as f:\n",
    "    f.write('rank,lower,upper\\n')\n",
    "    for i in range (len(string.ascii_lowercase)):\n",
    "        lower = string.ascii_lowercase[i]\n",
    "        upper = string.ascii_uppercase[i]\n",
    "        line = '{},{},{}\\n'.format(i,lower,upper)\n",
    "        f.write(line)"
   ]
  },
  {
   "cell_type": "markdown",
   "id": "017f7198",
   "metadata": {},
   "source": [
    "# Read the CSV file via pandas"
   ]
  },
  {
   "cell_type": "code",
   "execution_count": 6,
   "id": "e2e3dfb1",
   "metadata": {},
   "outputs": [],
   "source": [
    "import pandas as pd"
   ]
  },
  {
   "cell_type": "code",
   "execution_count": 14,
   "id": "e9df6635",
   "metadata": {},
   "outputs": [],
   "source": [
    "df = pd.read_csv('letters.csv')"
   ]
  },
  {
   "cell_type": "code",
   "execution_count": 17,
   "id": "d948e8ac",
   "metadata": {},
   "outputs": [],
   "source": [
    "df['rank'] = df['rank'].map(lambda x: x + 100)"
   ]
  },
  {
   "cell_type": "code",
   "execution_count": 18,
   "id": "a8430869",
   "metadata": {},
   "outputs": [
    {
     "data": {
      "text/html": [
       "<div>\n",
       "<style scoped>\n",
       "    .dataframe tbody tr th:only-of-type {\n",
       "        vertical-align: middle;\n",
       "    }\n",
       "\n",
       "    .dataframe tbody tr th {\n",
       "        vertical-align: top;\n",
       "    }\n",
       "\n",
       "    .dataframe thead th {\n",
       "        text-align: right;\n",
       "    }\n",
       "</style>\n",
       "<table border=\"1\" class=\"dataframe\">\n",
       "  <thead>\n",
       "    <tr style=\"text-align: right;\">\n",
       "      <th></th>\n",
       "      <th>rank</th>\n",
       "      <th>lower</th>\n",
       "      <th>upper</th>\n",
       "    </tr>\n",
       "  </thead>\n",
       "  <tbody>\n",
       "    <tr>\n",
       "      <th>0</th>\n",
       "      <td>100</td>\n",
       "      <td>a</td>\n",
       "      <td>A</td>\n",
       "    </tr>\n",
       "    <tr>\n",
       "      <th>1</th>\n",
       "      <td>101</td>\n",
       "      <td>b</td>\n",
       "      <td>B</td>\n",
       "    </tr>\n",
       "    <tr>\n",
       "      <th>2</th>\n",
       "      <td>102</td>\n",
       "      <td>c</td>\n",
       "      <td>C</td>\n",
       "    </tr>\n",
       "    <tr>\n",
       "      <th>3</th>\n",
       "      <td>103</td>\n",
       "      <td>d</td>\n",
       "      <td>D</td>\n",
       "    </tr>\n",
       "    <tr>\n",
       "      <th>4</th>\n",
       "      <td>104</td>\n",
       "      <td>e</td>\n",
       "      <td>E</td>\n",
       "    </tr>\n",
       "    <tr>\n",
       "      <th>5</th>\n",
       "      <td>105</td>\n",
       "      <td>f</td>\n",
       "      <td>F</td>\n",
       "    </tr>\n",
       "    <tr>\n",
       "      <th>6</th>\n",
       "      <td>106</td>\n",
       "      <td>g</td>\n",
       "      <td>G</td>\n",
       "    </tr>\n",
       "    <tr>\n",
       "      <th>7</th>\n",
       "      <td>107</td>\n",
       "      <td>h</td>\n",
       "      <td>H</td>\n",
       "    </tr>\n",
       "    <tr>\n",
       "      <th>8</th>\n",
       "      <td>108</td>\n",
       "      <td>i</td>\n",
       "      <td>I</td>\n",
       "    </tr>\n",
       "    <tr>\n",
       "      <th>9</th>\n",
       "      <td>109</td>\n",
       "      <td>j</td>\n",
       "      <td>J</td>\n",
       "    </tr>\n",
       "    <tr>\n",
       "      <th>10</th>\n",
       "      <td>110</td>\n",
       "      <td>k</td>\n",
       "      <td>K</td>\n",
       "    </tr>\n",
       "    <tr>\n",
       "      <th>11</th>\n",
       "      <td>111</td>\n",
       "      <td>l</td>\n",
       "      <td>L</td>\n",
       "    </tr>\n",
       "    <tr>\n",
       "      <th>12</th>\n",
       "      <td>112</td>\n",
       "      <td>m</td>\n",
       "      <td>M</td>\n",
       "    </tr>\n",
       "    <tr>\n",
       "      <th>13</th>\n",
       "      <td>113</td>\n",
       "      <td>n</td>\n",
       "      <td>N</td>\n",
       "    </tr>\n",
       "    <tr>\n",
       "      <th>14</th>\n",
       "      <td>114</td>\n",
       "      <td>o</td>\n",
       "      <td>O</td>\n",
       "    </tr>\n",
       "    <tr>\n",
       "      <th>15</th>\n",
       "      <td>115</td>\n",
       "      <td>p</td>\n",
       "      <td>P</td>\n",
       "    </tr>\n",
       "    <tr>\n",
       "      <th>16</th>\n",
       "      <td>116</td>\n",
       "      <td>q</td>\n",
       "      <td>Q</td>\n",
       "    </tr>\n",
       "    <tr>\n",
       "      <th>17</th>\n",
       "      <td>117</td>\n",
       "      <td>r</td>\n",
       "      <td>R</td>\n",
       "    </tr>\n",
       "    <tr>\n",
       "      <th>18</th>\n",
       "      <td>118</td>\n",
       "      <td>s</td>\n",
       "      <td>S</td>\n",
       "    </tr>\n",
       "    <tr>\n",
       "      <th>19</th>\n",
       "      <td>119</td>\n",
       "      <td>t</td>\n",
       "      <td>T</td>\n",
       "    </tr>\n",
       "    <tr>\n",
       "      <th>20</th>\n",
       "      <td>120</td>\n",
       "      <td>u</td>\n",
       "      <td>U</td>\n",
       "    </tr>\n",
       "    <tr>\n",
       "      <th>21</th>\n",
       "      <td>121</td>\n",
       "      <td>v</td>\n",
       "      <td>V</td>\n",
       "    </tr>\n",
       "    <tr>\n",
       "      <th>22</th>\n",
       "      <td>122</td>\n",
       "      <td>w</td>\n",
       "      <td>W</td>\n",
       "    </tr>\n",
       "    <tr>\n",
       "      <th>23</th>\n",
       "      <td>123</td>\n",
       "      <td>x</td>\n",
       "      <td>X</td>\n",
       "    </tr>\n",
       "    <tr>\n",
       "      <th>24</th>\n",
       "      <td>124</td>\n",
       "      <td>y</td>\n",
       "      <td>Y</td>\n",
       "    </tr>\n",
       "    <tr>\n",
       "      <th>25</th>\n",
       "      <td>125</td>\n",
       "      <td>z</td>\n",
       "      <td>Z</td>\n",
       "    </tr>\n",
       "  </tbody>\n",
       "</table>\n",
       "</div>"
      ],
      "text/plain": [
       "    rank lower upper\n",
       "0    100     a     A\n",
       "1    101     b     B\n",
       "2    102     c     C\n",
       "3    103     d     D\n",
       "4    104     e     E\n",
       "5    105     f     F\n",
       "6    106     g     G\n",
       "7    107     h     H\n",
       "8    108     i     I\n",
       "9    109     j     J\n",
       "10   110     k     K\n",
       "11   111     l     L\n",
       "12   112     m     M\n",
       "13   113     n     N\n",
       "14   114     o     O\n",
       "15   115     p     P\n",
       "16   116     q     Q\n",
       "17   117     r     R\n",
       "18   118     s     S\n",
       "19   119     t     T\n",
       "20   120     u     U\n",
       "21   121     v     V\n",
       "22   122     w     W\n",
       "23   123     x     X\n",
       "24   124     y     Y\n",
       "25   125     z     Z"
      ]
     },
     "execution_count": 18,
     "metadata": {},
     "output_type": "execute_result"
    }
   ],
   "source": [
    "df"
   ]
  },
  {
   "cell_type": "code",
   "execution_count": 21,
   "id": "6cca2e12",
   "metadata": {},
   "outputs": [],
   "source": [
    "# Save the DataFrame to a CSV file\n",
    "df.to_csv('output.csv', index=False)  # Set index=False if you don't want to save row numbers as an extra column\n",
    "# index = True there will be a , inside"
   ]
  }
 ],
 "metadata": {
  "kernelspec": {
   "display_name": "Python 3 (ipykernel)",
   "language": "python",
   "name": "python3"
  },
  "language_info": {
   "codemirror_mode": {
    "name": "ipython",
    "version": 3
   },
   "file_extension": ".py",
   "mimetype": "text/x-python",
   "name": "python",
   "nbconvert_exporter": "python",
   "pygments_lexer": "ipython3",
   "version": "3.9.13"
  },
  "toc": {
   "base_numbering": 1,
   "nav_menu": {},
   "number_sections": true,
   "sideBar": true,
   "skip_h1_title": false,
   "title_cell": "Table of Contents",
   "title_sidebar": "Contents",
   "toc_cell": false,
   "toc_position": {},
   "toc_section_display": true,
   "toc_window_display": false
  }
 },
 "nbformat": 4,
 "nbformat_minor": 5
}
